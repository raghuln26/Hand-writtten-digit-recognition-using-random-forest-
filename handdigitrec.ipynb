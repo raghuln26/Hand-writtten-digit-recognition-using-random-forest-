{
 "cells": [
  {
   "cell_type": "code",
   "execution_count": 1,
   "metadata": {},
   "outputs": [],
   "source": [
    "grid_data = X_train.values[40].reshape(28,28)\n",
    "plt.imshow(grid_data,interpolation=None,cmap=\"gray\")\n",
    "plt.title(Y_train.values[40])\n",
    "plt.show()"
   ]
  },
  {
   "cell_type": "code",
   "execution_count": 2,
   "metadata": {},
   "outputs": [],
   "source": [
    "X_train, Y_train = X[0:21000], Y[0:21000]\n",
    "X_Test, Y_Test = X[21000:], Y[21000:]"
   ]
  },
  {
   "cell_type": "code",
   "execution_count": 3,
   "metadata": {},
   "outputs": [],
   "source": [
    "X = train_data.drop(['label'],axis=1)\n",
    "Y = train_data['label'] "
   ]
  },
  {
   "cell_type": "code",
   "execution_count": 4,
   "metadata": {},
   "outputs": [],
   "source": [
    "#importing the requried lib for the hand digit recognition\n",
    "import numpy as np\n",
    "import pandas as pd\n",
    "import matplotlib.pyplot as plt\n",
    "from sklearn.ensemble import RandomForestClassifier\n",
    "from sklearn.metrics import accuracy_score\n",
    "from sklearn.metrics import confusion_matrix"
   ]
  },
  {
   "cell_type": "code",
   "execution_count": 5,
   "metadata": {},
   "outputs": [],
   "source": [
    "#loading the train and test csv data file from the local disk \n",
    "train_data = pd.read_csv(r\"C:\\Users\\NEW PC\\Desktop\\hand digit\\train.csv\",encoding='utf-8')"
   ]
  },
  {
   "cell_type": "code",
   "execution_count": 6,
   "metadata": {},
   "outputs": [],
   "source": [
    "#loading the train and test csv data file from the local disk \n",
    "train_data = pd.read_csv(r\"C:\\Users\\NEW PC\\Desktop\\hand digit\\train.csv\",encoding='utf-8')"
   ]
  },
  {
   "cell_type": "code",
   "execution_count": 7,
   "metadata": {},
   "outputs": [],
   "source": [
    "#view the first 5 row of the train_data\n",
    "train_data.tail()"
   ]
  },
  {
   "cell_type": "code",
   "execution_count": 8,
   "metadata": {},
   "outputs": [],
   "source": [
    "#view the first 5 row of the train_data\n",
    "train_data.tail()"
   ]
  },
  {
   "cell_type": "code",
   "execution_count": 9,
   "metadata": {},
   "outputs": [],
   "source": [
    "X = train_data.drop(['label'],axis=1)\n",
    "Y = train_data['label'] "
   ]
  },
  {
   "cell_type": "code",
   "execution_count": 10,
   "metadata": {},
   "outputs": [],
   "source": [
    "X_train, Y_train = X[0:21000], Y[0:21000]\n",
    "X_Test, Y_Test = X[21000:], Y[21000:]"
   ]
  },
  {
   "cell_type": "code",
   "execution_count": 11,
   "metadata": {},
   "outputs": [],
   "source": [
    "X = train_data.drop(['label'],axis=1)\n",
    "Y = train_data['label'] "
   ]
  },
  {
   "cell_type": "code",
   "execution_count": 12,
   "metadata": {},
   "outputs": [],
   "source": [
    "X_train, Y_train = X[0:21000], Y[0:21000]\n",
    "X_Test, Y_Test = X[21000:], Y[21000:]"
   ]
  },
  {
   "cell_type": "code",
   "execution_count": 13,
   "metadata": {},
   "outputs": [],
   "source": [
    "grid_data = X_train.values[40].reshape(28,28)\n",
    "plt.imshow(grid_data,interpolation=None,cmap=\"gray\")\n",
    "plt.title(Y_train.values[40])\n",
    "plt.show()"
   ]
  },
  {
   "cell_type": "code",
   "execution_count": 14,
   "metadata": {},
   "outputs": [],
   "source": [
    "#buliding a training model\n",
    "model = RandomForestClassifier()\n",
    "model.fit(X_train,Y_train)"
   ]
  },
  {
   "cell_type": "code",
   "execution_count": 15,
   "metadata": {},
   "outputs": [],
   "source": [
    "prediction = model.predict(X_Test)\n",
    "\n",
    "print(\"model score/accuracy is\" + str(accuracy_score(Y_Test,prediction)))"
   ]
  },
  {
   "cell_type": "code",
   "execution_count": 16,
   "metadata": {},
   "outputs": [],
   "source": [
    "prediction = model.predict(X_Test)\n",
    "\n",
    "print(\"model score/accuracy is\" + str(accuracy_score(Y_Test,prediction)))"
   ]
  },
  {
   "cell_type": "code",
   "execution_count": 17,
   "metadata": {},
   "outputs": [],
   "source": [
    "prediction = model.predict(X_Test)\n",
    "\n",
    "print(\"model score/accuracy is\" + str(accuracy_score(Y_Test,prediction)))"
   ]
  },
  {
   "cell_type": "code",
   "execution_count": 18,
   "metadata": {},
   "outputs": [],
   "source": [
    "print(\"confusion matrix \\n\" + str(confusion_matrix(Y_Test,prediction)))"
   ]
  },
  {
   "cell_type": "code",
   "execution_count": 19,
   "metadata": {},
   "outputs": [],
   "source": [
    "prediction = model.predict(X_Test)\n",
    "\n",
    "print(\"model score/accuracy is\" + str(accuracy_score(Y_Test,prediction)))"
   ]
  },
  {
   "cell_type": "code",
   "execution_count": 20,
   "metadata": {},
   "outputs": [],
   "source": [
    "print(\"confusion matrix \\n\" + str(confusion_matrix(Y_Test,prediction)))"
   ]
  },
  {
   "cell_type": "code",
   "execution_count": 21,
   "metadata": {},
   "outputs": [],
   "source": [
    "grid_data = X_train.values[40].reshape(28,28)\n",
    "plt.imshow(grid_data,interpolation=None,cmap=\"gray\")\n",
    "plt.title(Y_train.values[40])\n",
    "plt.show()"
   ]
  },
  {
   "cell_type": "code",
   "execution_count": 22,
   "metadata": {},
   "outputs": [],
   "source": [
    "X_train, Y_train = X[0:21000], Y[0:21000]\n",
    "X_Test, Y_Test = X[21000:], Y[21000:]"
   ]
  },
  {
   "cell_type": "code",
   "execution_count": 23,
   "metadata": {},
   "outputs": [],
   "source": [
    "X = train_data.drop(['label'],axis=1)\n",
    "Y = train_data['label'] "
   ]
  },
  {
   "cell_type": "code",
   "execution_count": 24,
   "metadata": {},
   "outputs": [],
   "source": [
    "prediction = model.predict(X_Test)\n",
    "\n",
    "print(\"model score/accuracy is\" + str(accuracy_score(Y_Test,prediction)))"
   ]
  },
  {
   "cell_type": "code",
   "execution_count": 25,
   "metadata": {},
   "outputs": [],
   "source": [
    "index = 5\n",
    "print(\"predicted\" + str(prediction_test[index]))\n",
    "plt.imshow(X_test.iloc[index].value.reshape((28,28)),cmap='gray')"
   ]
  },
  {
   "cell_type": "code",
   "execution_count": 26,
   "metadata": {},
   "outputs": [],
   "source": [
    "prediction_test = model.predict(X_test)"
   ]
  },
  {
   "cell_type": "code",
   "execution_count": 27,
   "metadata": {},
   "outputs": [],
   "source": [
    "prediction_test = model.predict(X_Test)"
   ]
  },
  {
   "cell_type": "code",
   "execution_count": 28,
   "metadata": {},
   "outputs": [],
   "source": [
    "index = 5\n",
    "print(\"predicted\" + str(prediction_test[index]))\n",
    "plt.imshow(X_test.iloc[index].value.reshape((28,28)),cmap='gray')"
   ]
  },
  {
   "cell_type": "code",
   "execution_count": 29,
   "metadata": {},
   "outputs": [],
   "source": [
    "index = 5\n",
    "print(\"predicted\" + str(prediction_test[index]))\n",
    "plt.imshow(X_Test.iloc[index].value.reshape((28,28)),cmap='gray')"
   ]
  },
  {
   "cell_type": "code",
   "execution_count": 30,
   "metadata": {},
   "outputs": [],
   "source": [
    "index = 5\n",
    "print(\"predicted\" + str(prediction_test[index]))\n",
    "plt.imshow(X_Test.iloc[index].values.reshape((28,28)),cmap='gray')"
   ]
  },
  {
   "cell_type": "code",
   "execution_count": 31,
   "metadata": {},
   "outputs": [],
   "source": [
    "index = 8\n",
    "print(\"predicted\" + str(prediction_test[index]))\n",
    "plt.imshow(X_Test.iloc[index].values.reshape((28,28)),cmap='gray')"
   ]
  },
  {
   "cell_type": "code",
   "execution_count": 32,
   "metadata": {},
   "outputs": [],
   "source": [
    "index = 2\n",
    "print(\"predicted\" + str(prediction_test[index]))\n",
    "plt.imshow(X_Test.iloc[index].values.reshape((28,28)),cmap='gray')"
   ]
  },
  {
   "cell_type": "code",
   "execution_count": 33,
   "metadata": {},
   "outputs": [],
   "source": [
    "index = 1\n",
    "print(\"predicted\" + str(prediction_test[index]))\n",
    "plt.imshow(X_Test.iloc[index].values.reshape((28,28)),cmap='gray')"
   ]
  },
  {
   "cell_type": "code",
   "execution_count": 34,
   "metadata": {},
   "outputs": [],
   "source": [
    "%notebook \"directory/to/file/handdigitrec.ipynb\""
   ]
  },
  {
   "cell_type": "code",
   "execution_count": 35,
   "metadata": {},
   "outputs": [],
   "source": [
    "%notebook \"C:/Users/NEW PC/Desktop/hand digit/handdigitrec.ipynb\""
   ]
  }
 ],
 "metadata": {},
 "nbformat": 4,
 "nbformat_minor": 2
}
